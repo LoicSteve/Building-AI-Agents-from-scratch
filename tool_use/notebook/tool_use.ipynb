{
 "cells": [
  {
   "cell_type": "code",
   "execution_count": 32,
   "metadata": {},
   "outputs": [],
   "source": [
    "from typing import Callable, Any, Dict, get_type_hints, Optional, List\n",
    "from dataclasses import dataclass\n",
    "import inspect\n",
    "from typing import _GenericAlias\n",
    "import urllib.request\n",
    "import json\n",
    "import openai\n",
    "import os\n",
    "import requests"
   ]
  },
  {
   "cell_type": "markdown",
   "metadata": {},
   "source": [
    "### we will need to set OPENAI_API_KEY environment variable in order to run the example successfully"
   ]
  },
  {
   "cell_type": "markdown",
   "metadata": {},
   "source": [
    "We’ll define a dataclass that contains desired information including the function runnable."
   ]
  },
  {
   "cell_type": "code",
   "execution_count": 33,
   "metadata": {},
   "outputs": [],
   "source": [
    "@dataclass\n",
    "class Tool:\n",
    "    name: str\n",
    "    description: str\n",
    "    func: Callable[..., str]\n",
    "    parameters: Dict[str, Dict[str, str]]\n",
    "    \n",
    "    def __call__(self, *args, **kwargs) -> str:\n",
    "        return self.func(*args, **kwargs)\n"
   ]
  },
  {
   "cell_type": "markdown",
   "metadata": {},
   "source": [
    "The following function extracts information about parameters - parameter names and descriptions."
   ]
  },
  {
   "cell_type": "code",
   "execution_count": 34,
   "metadata": {},
   "outputs": [],
   "source": [
    "def parse_docstring_params(docstring: str) -> Dict[str, str]:\n",
    "    \"\"\"Extract parameter descriptions from docstring.\"\"\"\n",
    "    if not docstring:\n",
    "        return {}\n",
    "    \n",
    "    params = {}\n",
    "    lines = docstring.split('\\n')\n",
    "    in_params = False\n",
    "    current_param = None\n",
    "    \n",
    "    for line in lines:\n",
    "        line = line.strip()\n",
    "        if line.startswith('Parameters:'):\n",
    "            in_params = True\n",
    "        elif in_params:\n",
    "            if line.startswith('-') or line.startswith('*'):\n",
    "                current_param = line.lstrip('- *').split(':')[0].strip()\n",
    "                params[current_param] = line.lstrip('- *').split(':')[1].strip()\n",
    "            elif current_param and line:\n",
    "                params[current_param] += ' ' + line.strip()\n",
    "            elif not line:\n",
    "                in_params = False\n",
    "    \n",
    "    return params"
   ]
  },
  {
   "cell_type": "markdown",
   "metadata": {},
   "source": [
    "We will be extracting function parameter types from typehints provided via function definition. The bellow function will help format them."
   ]
  },
  {
   "cell_type": "code",
   "execution_count": 35,
   "metadata": {},
   "outputs": [],
   "source": [
    "def get_type_description(type_hint: Any) -> str:\n",
    "    \"\"\"Get a human-readable description of a type hint.\"\"\"\n",
    "    if isinstance(type_hint, _GenericAlias):\n",
    "        if type_hint._name == 'Literal':\n",
    "            return f\"one of {type_hint.__args__}\"\n",
    "    return type_hint.__name__"
   ]
  },
  {
   "cell_type": "markdown",
   "metadata": {},
   "source": [
    "A very convenient way to turn a function into a tool is to use a decorator. The below code defines a tool decorator that wraps a function if used. It uses either function name for the tool name or a variable provided via decorator."
   ]
  },
  {
   "cell_type": "code",
   "execution_count": 36,
   "metadata": {},
   "outputs": [],
   "source": [
    "def tool(name: str = None):\n",
    "    def decorator(func: Callable[..., str]) -> Tool:\n",
    "        tool_name = name or func.__name__\n",
    "        description = inspect.getdoc(func) or \"No description available\"\n",
    "        \n",
    "        type_hints = get_type_hints(func)\n",
    "        param_docs = parse_docstring_params(description)\n",
    "        sig = inspect.signature(func)\n",
    "        \n",
    "        params = {}\n",
    "        for param_name, param in sig.parameters.items():\n",
    "            params[param_name] = {\n",
    "                \"type\": get_type_description(type_hints.get(param_name, Any)),\n",
    "                \"description\": param_docs.get(param_name, \"No description available\")\n",
    "            }\n",
    "        \n",
    "        return Tool(\n",
    "            name=tool_name,\n",
    "            description=description.split('\\n\\n')[0],\n",
    "            func=func,\n",
    "            parameters=params\n",
    "        )\n",
    "    return decorator"
   ]
  },
  {
   "cell_type": "markdown",
   "metadata": {},
   "source": [
    "## Creating the currency convertion tool"
   ]
  },
  {
   "cell_type": "markdown",
   "metadata": {},
   "source": [
    "The below creates a tool from a function that takes in the amount of currency to exchange from, the currency code to be converted from and the currency code to convert to. The function searches for the relevant currency exchange rate and performs the calculation of resulting currency amount."
   ]
  },
  {
   "cell_type": "code",
   "execution_count": 37,
   "metadata": {},
   "outputs": [],
   "source": [
    "@tool()\n",
    "def convert_currency(amount: float, from_currency: str, to_currency: str) -> str:\n",
    "    \"\"\"Converts currency using latest exchange rates.\n",
    "    \n",
    "    Parameters:\n",
    "        - amount: Amount to convert\n",
    "        - from_currency: Source currency code (e.g., USD)\n",
    "        - to_currency: Target currency code (e.g., EUR)\n",
    "    \"\"\"\n",
    "    try:\n",
    "        url = f\"https://open.er-api.com/v6/latest/{from_currency.upper()}\"\n",
    "        with urllib.request.urlopen(url) as response:\n",
    "            data = json.loads(response.read())\n",
    "            \n",
    "        if \"rates\" not in data:\n",
    "            return \"Error: Could not fetch exchange rates\"\n",
    "            \n",
    "        rate = data[\"rates\"].get(to_currency.upper())\n",
    "        if not rate:\n",
    "            return f\"Error: No rate found for {to_currency}\"\n",
    "            \n",
    "        converted = amount * rate\n",
    "        return f\"{amount} {from_currency.upper()} = {converted:.2f} {to_currency.upper()}\"\n",
    "        \n",
    "    except Exception as e:\n",
    "        return f\"Error converting currency: {str(e)}\""
   ]
  },
  {
   "cell_type": "code",
   "execution_count": 38,
   "metadata": {},
   "outputs": [],
   "source": [
    "@tool()\n",
    "def get_weather(city: str = None, **kwargs) -> str:\n",
    "    \"\"\"\n",
    "    Retrieves the current weather for the specified city using the wttr.in service.\n",
    "    Accepts either 'city' or an alternative keyword 'location'.\n",
    "    \"\"\"\n",
    "    if city is None:\n",
    "        city = kwargs.get(\"location\")\n",
    "    if not city:\n",
    "        return \"Error: No city provided.\"\n",
    "    try:\n",
    "        url = f\"http://wttr.in/{city}?format=3\"\n",
    "        response = requests.get(url, timeout=5)\n",
    "        response.raise_for_status()\n",
    "        return response.text.strip()\n",
    "    except Exception as e:\n",
    "        return f\"Error retrieving weather for {city}: {str(e)}\""
   ]
  },
  {
   "cell_type": "code",
   "execution_count": 39,
   "metadata": {},
   "outputs": [
    {
     "data": {
      "text/plain": [
       "Tool(name='convert_currency', description='Converts currency using latest exchange rates.', func=<function convert_currency at 0x7fc98179e170>, parameters={'amount': {'type': 'float', 'description': 'Amount to convert'}, 'from_currency': {'type': 'str', 'description': 'Source currency code (e.g., USD)'}, 'to_currency': {'type': 'str', 'description': 'Target currency code (e.g., EUR)'}})"
      ]
     },
     "execution_count": 39,
     "metadata": {},
     "output_type": "execute_result"
    }
   ],
   "source": [
    "convert_currency"
   ]
  },
  {
   "cell_type": "markdown",
   "metadata": {},
   "source": [
    "### Agents Class"
   ]
  },
  {
   "cell_type": "code",
   "execution_count": 40,
   "metadata": {},
   "outputs": [],
   "source": [
    "class Agent:\n",
    "    def __init__(self):\n",
    "        \"\"\"Initialize Agent with empty tool registry.\"\"\"\n",
    "        self.client = openai.OpenAI(api_key=os.getenv(\"OPENAI_API_KEY\"))\n",
    "        self.tools: Dict[str, Tool] = {}\n",
    "    \n",
    "    def add_tool(self, tool: Tool) -> None:\n",
    "        \"\"\"Register a new tool with the agent.\"\"\"\n",
    "        self.tools[tool.name] = tool\n",
    "    \n",
    "    def get_available_tools(self) -> List[str]:\n",
    "        \"\"\"Get list of available tool descriptions.\"\"\"\n",
    "        return [f\"{tool.name}: {tool.description}\" for tool in self.tools.values()]\n",
    "    \n",
    "    def use_tool(self, tool_name: str, **kwargs: Any) -> str:\n",
    "        \"\"\"Execute a specific tool with given arguments.\"\"\"\n",
    "        if tool_name not in self.tools:\n",
    "            raise ValueError(f\"Tool '{tool_name}' not found. Available tools: {list(self.tools.keys())}\")\n",
    "        \n",
    "        tool = self.tools[tool_name]\n",
    "        return tool.func(**kwargs)\n",
    "\n",
    "    def create_system_prompt(self) -> str:\n",
    "        \"\"\"Create the system prompt for the LLM with available tools.\"\"\"\n",
    "        tools_json = {\n",
    "            \"role\": \"AI Assistant\",\n",
    "            \"capabilities\": [\n",
    "                \"Using provided tools to help users when necessary\",\n",
    "                \"Responding directly without tools for questions that don't require tool usage\",\n",
    "                \"Planning efficient tool usage sequences\"\n",
    "            ],\n",
    "            \"instructions\": [\n",
    "                \"Use tools only when they are necessary for the task\",\n",
    "                \"If a query can be answered directly, respond with a simple message instead of using tools\",\n",
    "                \"When tools are needed, plan their usage efficiently to minimize tool calls\"\n",
    "            ],\n",
    "            \"tools\": [\n",
    "                {\n",
    "                    \"name\": tool.name,\n",
    "                    \"description\": tool.description,\n",
    "                    \"parameters\": {\n",
    "                        name: {\n",
    "                            \"type\": info[\"type\"],\n",
    "                            \"description\": info[\"description\"]\n",
    "                        }\n",
    "                        for name, info in tool.parameters.items()\n",
    "                    }\n",
    "                }\n",
    "                for tool in self.tools.values()\n",
    "            ],\n",
    "            \"response_format\": {\n",
    "                \"type\": \"json\",\n",
    "                \"schema\": {\n",
    "                    \"requires_tools\": {\n",
    "                        \"type\": \"boolean\",\n",
    "                        \"description\": \"whether tools are needed for this query\"\n",
    "                    },\n",
    "                    \"direct_response\": {\n",
    "                        \"type\": \"string\",\n",
    "                        \"description\": \"response when no tools are needed\",\n",
    "                        \"optional\": True\n",
    "                    },\n",
    "                    \"thought\": {\n",
    "                        \"type\": \"string\", \n",
    "                        \"description\": \"reasoning about how to solve the task (when tools are needed)\",\n",
    "                        \"optional\": True\n",
    "                    },\n",
    "                    \"plan\": {\n",
    "                        \"type\": \"array\",\n",
    "                        \"items\": {\"type\": \"string\"},\n",
    "                        \"description\": \"steps to solve the task (when tools are needed)\",\n",
    "                        \"optional\": True\n",
    "                    },\n",
    "                    \"tool_calls\": {\n",
    "                        \"type\": \"array\",\n",
    "                        \"items\": {\n",
    "                            \"type\": \"object\",\n",
    "                            \"properties\": {\n",
    "                                \"tool\": {\n",
    "                                    \"type\": \"string\",\n",
    "                                    \"description\": \"name of the tool\"\n",
    "                                },\n",
    "                                \"args\": {\n",
    "                                    \"type\": \"object\",\n",
    "                                    \"description\": \"parameters for the tool\"\n",
    "                                }\n",
    "                            }\n",
    "                        },\n",
    "                        \"description\": \"tools to call in sequence (when tools are needed)\",\n",
    "                        \"optional\": True\n",
    "                    }\n",
    "                },\n",
    "                \"examples\": [\n",
    "                    {\n",
    "                        \"query\": \"Convert 100 USD to EUR\",\n",
    "                        \"response\": {\n",
    "                            \"requires_tools\": True,\n",
    "                            \"thought\": \"I need to use the currency conversion tool to convert USD to EUR\",\n",
    "                            \"plan\": [\n",
    "                                \"Use convert_currency tool to convert 100 USD to EUR\",\n",
    "                                \"Return the conversion result\"\n",
    "                            ],\n",
    "                            \"tool_calls\": [\n",
    "                                {\n",
    "                                    \"tool\": \"convert_currency\",\n",
    "                                    \"args\": {\n",
    "                                        \"amount\": 100,\n",
    "                                        \"from_currency\": \"USD\", \n",
    "                                        \"to_currency\": \"EUR\"\n",
    "                                    }\n",
    "                                }\n",
    "                            ]\n",
    "                        }\n",
    "                    },\n",
    "                    {\n",
    "                        \"query\": \"What's 500 Japanese Yen in British Pounds?\",\n",
    "                        \"response\": {\n",
    "                            \"requires_tools\": True,\n",
    "                            \"thought\": \"I need to convert JPY to GBP using the currency converter\",\n",
    "                            \"plan\": [\n",
    "                                \"Use convert_currency tool to convert 500 JPY to GBP\",\n",
    "                                \"Return the conversion result\"\n",
    "                            ],\n",
    "                            \"tool_calls\": [\n",
    "                                {\n",
    "                                    \"tool\": \"convert_currency\",\n",
    "                                    \"args\": {\n",
    "                                        \"amount\": 500,\n",
    "                                        \"from_currency\": \"JPY\",\n",
    "                                        \"to_currency\": \"GBP\"\n",
    "                                    }\n",
    "                                }\n",
    "                            ]\n",
    "                        }\n",
    "                    },\n",
    "                    {\n",
    "                        \"query\": \"What currency does Japan use?\",\n",
    "                        \"response\": {\n",
    "                            \"requires_tools\": False,\n",
    "                            \"direct_response\": \"Japan uses the Japanese Yen (JPY) as its official currency. This is common knowledge that doesn't require using the currency conversion tool.\"\n",
    "                        }\n",
    "                    }\n",
    "                ]\n",
    "            }\n",
    "        }\n",
    "        \n",
    "        return f\"\"\"You are an AI assistant that helps users by providing direct answers or using tools when necessary.\n",
    "Configuration, instructions, and available tools are provided in JSON format below:\n",
    "\n",
    "{json.dumps(tools_json, indent=2)}\n",
    "\n",
    "Always respond with a JSON object following the response_format schema above. \n",
    "Remember to use tools only when they are actually needed for the task.\"\"\"\n",
    "\n",
    "    def plan(self, user_query: str) -> Dict:\n",
    "        \"\"\"Use LLM to create a plan for tool usage.\"\"\"\n",
    "        messages = [\n",
    "            {\"role\": \"system\", \"content\": self.create_system_prompt()},\n",
    "            {\"role\": \"user\", \"content\": user_query}\n",
    "        ]\n",
    "        \n",
    "        response = self.client.chat.completions.create(\n",
    "            model=\"gpt-4o-mini\",\n",
    "            messages=messages,\n",
    "            temperature=0\n",
    "        )\n",
    "        \n",
    "        try:\n",
    "            return json.loads(response.choices[0].message.content)\n",
    "        except json.JSONDecodeError:\n",
    "            raise ValueError(\"Failed to parse LLM response as JSON\")\n",
    "\n",
    "    def execute(self, user_query: str) -> str:\n",
    "        \"\"\"Execute the full pipeline: plan and execute tools.\"\"\"\n",
    "        try:\n",
    "            plan = self.plan(user_query)\n",
    "            \n",
    "            if not plan.get(\"requires_tools\", True):\n",
    "                return plan[\"direct_response\"]\n",
    "            \n",
    "            # Execute each tool in sequence\n",
    "            results = []\n",
    "            for tool_call in plan[\"tool_calls\"]:\n",
    "                tool_name = tool_call[\"tool\"]\n",
    "                tool_args = tool_call[\"args\"]\n",
    "                result = self.use_tool(tool_name, **tool_args)\n",
    "                results.append(result)\n",
    "            \n",
    "            # Combine results\n",
    "            return f\"\"\"Thought: {plan['thought']}\n",
    "Plan: {'. '.join(plan['plan'])}\n",
    "Results: {'. '.join(results)}\"\"\"\n",
    "            \n",
    "        except Exception as e:\n",
    "            return f\"Error executing plan: {str(e)}\""
   ]
  },
  {
   "cell_type": "markdown",
   "metadata": {},
   "source": [
    "### Create and run the Agent"
   ]
  },
  {
   "cell_type": "code",
   "execution_count": 42,
   "metadata": {},
   "outputs": [
    {
     "name": "stdout",
     "output_type": "stream",
     "text": [
      "\n",
      "Query: I am traveling to Japan from Serbia, I have 1500 of local currency, how much of Japaese currency will I be able to get?\n",
      "Thought: I need to convert 1500 Serbian Dinars (RSD) to Japanese Yen (JPY) using the currency conversion tool.\n",
      "Plan: Use convert_currency tool to convert 1500 RSD to JPY. Return the conversion result\n",
      "Results: 1500 RSD = 2006.00 JPY\n",
      "\n",
      "Query: How are you doing?\n",
      "I'm just a computer program, so I don't have feelings, but I'm here to help you!\n",
      "\n",
      "Query: What's the weather like in Berlin?\n",
      "Thought: I need to use the weather retrieval tool to get the current weather for Berlin.\n",
      "Plan: Use get_weather tool to retrieve the current weather for Berlin. Return the weather information\n",
      "Results: Berlin: ⛅️  +9°C\n"
     ]
    }
   ],
   "source": [
    "agent = Agent()\n",
    "agent.add_tool(convert_currency)\n",
    "agent.add_tool(get_weather)\n",
    "\n",
    "query_list = [\"I am traveling to Japan from Serbia, I have 1500 of local currency, how much of Japaese currency will I be able to get?\",\n",
    "                \"How are you doing?\", \"What's the weather like in Berlin?\"]\n",
    "\n",
    "for query in query_list:\n",
    "    print(f\"\\nQuery: {query}\")\n",
    "    result = agent.execute(query)\n",
    "    print(result)"
   ]
  },
  {
   "cell_type": "markdown",
   "metadata": {},
   "source": []
  },
  {
   "cell_type": "markdown",
   "metadata": {},
   "source": []
  },
  {
   "cell_type": "code",
   "execution_count": null,
   "metadata": {},
   "outputs": [],
   "source": []
  },
  {
   "cell_type": "code",
   "execution_count": null,
   "metadata": {},
   "outputs": [],
   "source": []
  }
 ],
 "metadata": {
  "kernelspec": {
   "display_name": "agent",
   "language": "python",
   "name": "python3"
  },
  "language_info": {
   "codemirror_mode": {
    "name": "ipython",
    "version": 3
   },
   "file_extension": ".py",
   "mimetype": "text/x-python",
   "name": "python",
   "nbconvert_exporter": "python",
   "pygments_lexer": "ipython3",
   "version": "3.10.9"
  }
 },
 "nbformat": 4,
 "nbformat_minor": 2
}

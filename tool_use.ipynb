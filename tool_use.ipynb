{
 "cells": [
  {
   "cell_type": "code",
   "execution_count": 10,
   "metadata": {},
   "outputs": [],
   "source": [
    "from typing import Callable, Any, Dict, get_type_hints, Optional, List\n",
    "from dataclasses import dataclass\n",
    "import inspect\n",
    "from typing import _GenericAlias\n",
    "import urllib.request\n",
    "import json\n",
    "import openai\n",
    "import os"
   ]
  },
  {
   "cell_type": "markdown",
   "metadata": {},
   "source": [
    "### we will need to set OPENAI_API_KEY environment variable in order to run the example successfully"
   ]
  },
  {
   "cell_type": "markdown",
   "metadata": {},
   "source": [
    "We’ll define a dataclass that contains desired information including the function runnable."
   ]
  },
  {
   "cell_type": "code",
   "execution_count": 11,
   "metadata": {},
   "outputs": [],
   "source": [
    "@dataclass\n",
    "class Tool:\n",
    "    name: str\n",
    "    description: str\n",
    "    func: Callable[..., str]\n",
    "    parameters: Dict[str, Dict[str, str]]\n",
    "    \n",
    "    def __call__(self, *args, **kwargs) -> str:\n",
    "        return self.func(*args, **kwargs)\n"
   ]
  },
  {
   "cell_type": "markdown",
   "metadata": {},
   "source": [
    "The following function extracts information about parameters - parameter names and descriptions."
   ]
  },
  {
   "cell_type": "code",
   "execution_count": 12,
   "metadata": {},
   "outputs": [],
   "source": [
    "def parse_docstring_params(docstring: str) -> Dict[str, str]:\n",
    "    \"\"\"Extract parameter descriptions from docstring.\"\"\"\n",
    "    if not docstring:\n",
    "        return {}\n",
    "    \n",
    "    params = {}\n",
    "    lines = docstring.split('\\n')\n",
    "    in_params = False\n",
    "    current_param = None\n",
    "    \n",
    "    for line in lines:\n",
    "        line = line.strip()\n",
    "        if line.startswith('Parameters:'):\n",
    "            in_params = True\n",
    "        elif in_params:\n",
    "            if line.startswith('-') or line.startswith('*'):\n",
    "                current_param = line.lstrip('- *').split(':')[0].strip()\n",
    "                params[current_param] = line.lstrip('- *').split(':')[1].strip()\n",
    "            elif current_param and line:\n",
    "                params[current_param] += ' ' + line.strip()\n",
    "            elif not line:\n",
    "                in_params = False\n",
    "    \n",
    "    return params"
   ]
  },
  {
   "cell_type": "markdown",
   "metadata": {},
   "source": [
    "We will be extracting function parameter types from typehints provided via function definition. The bellow function will help format them."
   ]
  },
  {
   "cell_type": "code",
   "execution_count": 13,
   "metadata": {},
   "outputs": [],
   "source": [
    "def get_type_description(type_hint: Any) -> str:\n",
    "    \"\"\"Get a human-readable description of a type hint.\"\"\"\n",
    "    if isinstance(type_hint, _GenericAlias):\n",
    "        if type_hint._name == 'Literal':\n",
    "            return f\"one of {type_hint.__args__}\"\n",
    "    return type_hint.__name__"
   ]
  },
  {
   "cell_type": "markdown",
   "metadata": {},
   "source": [
    "A very convenient way to turn a function into a tool is to use a decorator. The below code defines a tool decorator that wraps a function if used. It uses either function name for the tool name or a variable provided via decorator."
   ]
  },
  {
   "cell_type": "code",
   "execution_count": 14,
   "metadata": {},
   "outputs": [],
   "source": [
    "def tool(name: str = None):\n",
    "    def decorator(func: Callable[..., str]) -> Tool:\n",
    "        tool_name = name or func.__name__\n",
    "        description = inspect.getdoc(func) or \"No description available\"\n",
    "        \n",
    "        type_hints = get_type_hints(func)\n",
    "        param_docs = parse_docstring_params(description)\n",
    "        sig = inspect.signature(func)\n",
    "        \n",
    "        params = {}\n",
    "        for param_name, param in sig.parameters.items():\n",
    "            params[param_name] = {\n",
    "                \"type\": get_type_description(type_hints.get(param_name, Any)),\n",
    "                \"description\": param_docs.get(param_name, \"No description available\")\n",
    "            }\n",
    "        \n",
    "        return Tool(\n",
    "            name=tool_name,\n",
    "            description=description.split('\\n\\n')[0],\n",
    "            func=func,\n",
    "            parameters=params\n",
    "        )\n",
    "    return decorator"
   ]
  },
  {
   "cell_type": "markdown",
   "metadata": {},
   "source": [
    "## Creating the currency convertion tool"
   ]
  },
  {
   "cell_type": "markdown",
   "metadata": {},
   "source": [
    "The below creates a tool from a function that takes in the amount of currency to exchange from, the currency code to be converted from and the currency code to convert to. The function searches for the relevant currency exchange rate and performs the calculation of resulting currency amount."
   ]
  },
  {
   "cell_type": "code",
   "execution_count": 15,
   "metadata": {},
   "outputs": [],
   "source": [
    "@tool()\n",
    "def convert_currency(amount: float, from_currency: str, to_currency: str) -> str:\n",
    "    \"\"\"Converts currency using latest exchange rates.\n",
    "    \n",
    "    Parameters:\n",
    "        - amount: Amount to convert\n",
    "        - from_currency: Source currency code (e.g., USD)\n",
    "        - to_currency: Target currency code (e.g., EUR)\n",
    "    \"\"\"\n",
    "    try:\n",
    "        url = f\"https://open.er-api.com/v6/latest/{from_currency.upper()}\"\n",
    "        with urllib.request.urlopen(url) as response:\n",
    "            data = json.loads(response.read())\n",
    "            \n",
    "        if \"rates\" not in data:\n",
    "            return \"Error: Could not fetch exchange rates\"\n",
    "            \n",
    "        rate = data[\"rates\"].get(to_currency.upper())\n",
    "        if not rate:\n",
    "            return f\"Error: No rate found for {to_currency}\"\n",
    "            \n",
    "        converted = amount * rate\n",
    "        return f\"{amount} {from_currency.upper()} = {converted:.2f} {to_currency.upper()}\"\n",
    "        \n",
    "    except Exception as e:\n",
    "        return f\"Error converting currency: {str(e)}\""
   ]
  },
  {
   "cell_type": "code",
   "execution_count": 16,
   "metadata": {},
   "outputs": [
    {
     "data": {
      "text/plain": [
       "Tool(name='convert_currency', description='Converts currency using latest exchange rates.', func=<function convert_currency at 0x7ff2f9097250>, parameters={'amount': {'type': 'float', 'description': 'Amount to convert'}, 'from_currency': {'type': 'str', 'description': 'Source currency code (e.g., USD)'}, 'to_currency': {'type': 'str', 'description': 'Target currency code (e.g., EUR)'}})"
      ]
     },
     "execution_count": 16,
     "metadata": {},
     "output_type": "execute_result"
    }
   ],
   "source": [
    "convert_currency"
   ]
  },
  {
   "cell_type": "markdown",
   "metadata": {},
   "source": [
    "### Agents Class"
   ]
  },
  {
   "cell_type": "code",
   "execution_count": 17,
   "metadata": {},
   "outputs": [],
   "source": [
    "class Agent:\n",
    "    def __init__(self):\n",
    "        \"\"\"Initialize Agent with empty tool registry.\"\"\"\n",
    "        self.client = openai.OpenAI(api_key=os.getenv(\"OPENAI_API_KEY\"))\n",
    "        self.tools: Dict[str, Tool] = {}\n",
    "    \n",
    "    def add_tool(self, tool: Tool) -> None:\n",
    "        \"\"\"Register a new tool with the agent.\"\"\"\n",
    "        self.tools[tool.name] = tool\n",
    "    \n",
    "    def get_available_tools(self) -> List[str]:\n",
    "        \"\"\"Get list of available tool descriptions.\"\"\"\n",
    "        return [f\"{tool.name}: {tool.description}\" for tool in self.tools.values()]\n",
    "    \n",
    "    def use_tool(self, tool_name: str, **kwargs: Any) -> str:\n",
    "        \"\"\"Execute a specific tool with given arguments.\"\"\"\n",
    "        if tool_name not in self.tools:\n",
    "            raise ValueError(f\"Tool '{tool_name}' not found. Available tools: {list(self.tools.keys())}\")\n",
    "        \n",
    "        tool = self.tools[tool_name]\n",
    "        return tool.func(**kwargs)\n",
    "\n",
    "    def create_system_prompt(self) -> str:\n",
    "        \"\"\"Create the system prompt for the LLM with available tools.\"\"\"\n",
    "        tools_json = {\n",
    "            \"role\": \"AI Assistant\",\n",
    "            \"capabilities\": [\n",
    "                \"Using provided tools to help users when necessary\",\n",
    "                \"Responding directly without tools for questions that don't require tool usage\",\n",
    "                \"Planning efficient tool usage sequences\"\n",
    "            ],\n",
    "            \"instructions\": [\n",
    "                \"Use tools only when they are necessary for the task\",\n",
    "                \"If a query can be answered directly, respond with a simple message instead of using tools\",\n",
    "                \"When tools are needed, plan their usage efficiently to minimize tool calls\"\n",
    "            ],\n",
    "            \"tools\": [\n",
    "                {\n",
    "                    \"name\": tool.name,\n",
    "                    \"description\": tool.description,\n",
    "                    \"parameters\": {\n",
    "                        name: {\n",
    "                            \"type\": info[\"type\"],\n",
    "                            \"description\": info[\"description\"]\n",
    "                        }\n",
    "                        for name, info in tool.parameters.items()\n",
    "                    }\n",
    "                }\n",
    "                for tool in self.tools.values()\n",
    "            ],\n",
    "            \"response_format\": {\n",
    "                \"type\": \"json\",\n",
    "                \"schema\": {\n",
    "                    \"requires_tools\": {\n",
    "                        \"type\": \"boolean\",\n",
    "                        \"description\": \"whether tools are needed for this query\"\n",
    "                    },\n",
    "                    \"direct_response\": {\n",
    "                        \"type\": \"string\",\n",
    "                        \"description\": \"response when no tools are needed\",\n",
    "                        \"optional\": True\n",
    "                    },\n",
    "                    \"thought\": {\n",
    "                        \"type\": \"string\", \n",
    "                        \"description\": \"reasoning about how to solve the task (when tools are needed)\",\n",
    "                        \"optional\": True\n",
    "                    },\n",
    "                    \"plan\": {\n",
    "                        \"type\": \"array\",\n",
    "                        \"items\": {\"type\": \"string\"},\n",
    "                        \"description\": \"steps to solve the task (when tools are needed)\",\n",
    "                        \"optional\": True\n",
    "                    },\n",
    "                    \"tool_calls\": {\n",
    "                        \"type\": \"array\",\n",
    "                        \"items\": {\n",
    "                            \"type\": \"object\",\n",
    "                            \"properties\": {\n",
    "                                \"tool\": {\n",
    "                                    \"type\": \"string\",\n",
    "                                    \"description\": \"name of the tool\"\n",
    "                                },\n",
    "                                \"args\": {\n",
    "                                    \"type\": \"object\",\n",
    "                                    \"description\": \"parameters for the tool\"\n",
    "                                }\n",
    "                            }\n",
    "                        },\n",
    "                        \"description\": \"tools to call in sequence (when tools are needed)\",\n",
    "                        \"optional\": True\n",
    "                    }\n",
    "                },\n",
    "                \"examples\": [\n",
    "                    {\n",
    "                        \"query\": \"Convert 100 USD to EUR\",\n",
    "                        \"response\": {\n",
    "                            \"requires_tools\": True,\n",
    "                            \"thought\": \"I need to use the currency conversion tool to convert USD to EUR\",\n",
    "                            \"plan\": [\n",
    "                                \"Use convert_currency tool to convert 100 USD to EUR\",\n",
    "                                \"Return the conversion result\"\n",
    "                            ],\n",
    "                            \"tool_calls\": [\n",
    "                                {\n",
    "                                    \"tool\": \"convert_currency\",\n",
    "                                    \"args\": {\n",
    "                                        \"amount\": 100,\n",
    "                                        \"from_currency\": \"USD\", \n",
    "                                        \"to_currency\": \"EUR\"\n",
    "                                    }\n",
    "                                }\n",
    "                            ]\n",
    "                        }\n",
    "                    },\n",
    "                    {\n",
    "                        \"query\": \"What's 500 Japanese Yen in British Pounds?\",\n",
    "                        \"response\": {\n",
    "                            \"requires_tools\": True,\n",
    "                            \"thought\": \"I need to convert JPY to GBP using the currency converter\",\n",
    "                            \"plan\": [\n",
    "                                \"Use convert_currency tool to convert 500 JPY to GBP\",\n",
    "                                \"Return the conversion result\"\n",
    "                            ],\n",
    "                            \"tool_calls\": [\n",
    "                                {\n",
    "                                    \"tool\": \"convert_currency\",\n",
    "                                    \"args\": {\n",
    "                                        \"amount\": 500,\n",
    "                                        \"from_currency\": \"JPY\",\n",
    "                                        \"to_currency\": \"GBP\"\n",
    "                                    }\n",
    "                                }\n",
    "                            ]\n",
    "                        }\n",
    "                    },\n",
    "                    {\n",
    "                        \"query\": \"What currency does Japan use?\",\n",
    "                        \"response\": {\n",
    "                            \"requires_tools\": False,\n",
    "                            \"direct_response\": \"Japan uses the Japanese Yen (JPY) as its official currency. This is common knowledge that doesn't require using the currency conversion tool.\"\n",
    "                        }\n",
    "                    }\n",
    "                ]\n",
    "            }\n",
    "        }\n",
    "        \n",
    "        return f\"\"\"You are an AI assistant that helps users by providing direct answers or using tools when necessary.\n",
    "Configuration, instructions, and available tools are provided in JSON format below:\n",
    "\n",
    "{json.dumps(tools_json, indent=2)}\n",
    "\n",
    "Always respond with a JSON object following the response_format schema above. \n",
    "Remember to use tools only when they are actually needed for the task.\"\"\"\n",
    "\n",
    "    def plan(self, user_query: str) -> Dict:\n",
    "        \"\"\"Use LLM to create a plan for tool usage.\"\"\"\n",
    "        messages = [\n",
    "            {\"role\": \"system\", \"content\": self.create_system_prompt()},\n",
    "            {\"role\": \"user\", \"content\": user_query}\n",
    "        ]\n",
    "        \n",
    "        response = self.client.chat.completions.create(\n",
    "            model=\"gpt-4o-mini\",\n",
    "            messages=messages,\n",
    "            temperature=0\n",
    "        )\n",
    "        \n",
    "        try:\n",
    "            return json.loads(response.choices[0].message.content)\n",
    "        except json.JSONDecodeError:\n",
    "            raise ValueError(\"Failed to parse LLM response as JSON\")\n",
    "\n",
    "    def execute(self, user_query: str) -> str:\n",
    "        \"\"\"Execute the full pipeline: plan and execute tools.\"\"\"\n",
    "        try:\n",
    "            plan = self.plan(user_query)\n",
    "            \n",
    "            if not plan.get(\"requires_tools\", True):\n",
    "                return plan[\"direct_response\"]\n",
    "            \n",
    "            # Execute each tool in sequence\n",
    "            results = []\n",
    "            for tool_call in plan[\"tool_calls\"]:\n",
    "                tool_name = tool_call[\"tool\"]\n",
    "                tool_args = tool_call[\"args\"]\n",
    "                result = self.use_tool(tool_name, **tool_args)\n",
    "                results.append(result)\n",
    "            \n",
    "            # Combine results\n",
    "            return f\"\"\"Thought: {plan['thought']}\n",
    "Plan: {'. '.join(plan['plan'])}\n",
    "Results: {'. '.join(results)}\"\"\"\n",
    "            \n",
    "        except Exception as e:\n",
    "            return f\"Error executing plan: {str(e)}\""
   ]
  },
  {
   "cell_type": "markdown",
   "metadata": {},
   "source": [
    "### Create and run the Agent"
   ]
  },
  {
   "cell_type": "code",
   "execution_count": 18,
   "metadata": {},
   "outputs": [
    {
     "ename": "OpenAIError",
     "evalue": "The api_key client option must be set either by passing api_key to the client or by setting the OPENAI_API_KEY environment variable",
     "output_type": "error",
     "traceback": [
      "\u001b[0;31m---------------------------------------------------------------------------\u001b[0m",
      "\u001b[0;31mOpenAIError\u001b[0m                               Traceback (most recent call last)",
      "Cell \u001b[0;32mIn[18], line 1\u001b[0m\n\u001b[0;32m----> 1\u001b[0m agent \u001b[38;5;241m=\u001b[39m \u001b[43mAgent\u001b[49m\u001b[43m(\u001b[49m\u001b[43m)\u001b[49m\n\u001b[1;32m      2\u001b[0m agent\u001b[38;5;241m.\u001b[39madd_tool(convert_currency)\n\u001b[1;32m      4\u001b[0m query_list \u001b[38;5;241m=\u001b[39m [\u001b[38;5;124m\"\u001b[39m\u001b[38;5;124mI am traveling to Japan from Serbia, I have 1500 of local currency, how much of Japaese currency will I be able to get?\u001b[39m\u001b[38;5;124m\"\u001b[39m,\n\u001b[1;32m      5\u001b[0m                 \u001b[38;5;124m\"\u001b[39m\u001b[38;5;124mHow are you doing?\u001b[39m\u001b[38;5;124m\"\u001b[39m]\n",
      "Cell \u001b[0;32mIn[17], line 4\u001b[0m, in \u001b[0;36mAgent.__init__\u001b[0;34m(self)\u001b[0m\n\u001b[1;32m      2\u001b[0m \u001b[38;5;28;01mdef\u001b[39;00m \u001b[38;5;21m__init__\u001b[39m(\u001b[38;5;28mself\u001b[39m):\n\u001b[1;32m      3\u001b[0m \u001b[38;5;250m    \u001b[39m\u001b[38;5;124;03m\"\"\"Initialize Agent with empty tool registry.\"\"\"\u001b[39;00m\n\u001b[0;32m----> 4\u001b[0m     \u001b[38;5;28mself\u001b[39m\u001b[38;5;241m.\u001b[39mclient \u001b[38;5;241m=\u001b[39m \u001b[43mopenai\u001b[49m\u001b[38;5;241;43m.\u001b[39;49m\u001b[43mOpenAI\u001b[49m\u001b[43m(\u001b[49m\u001b[43mapi_key\u001b[49m\u001b[38;5;241;43m=\u001b[39;49m\u001b[43mos\u001b[49m\u001b[38;5;241;43m.\u001b[39;49m\u001b[43mgetenv\u001b[49m\u001b[43m(\u001b[49m\u001b[38;5;124;43m\"\u001b[39;49m\u001b[38;5;124;43mOPENAI_API_KEY\u001b[39;49m\u001b[38;5;124;43m\"\u001b[39;49m\u001b[43m)\u001b[49m\u001b[43m)\u001b[49m\n\u001b[1;32m      5\u001b[0m     \u001b[38;5;28mself\u001b[39m\u001b[38;5;241m.\u001b[39mtools: Dict[\u001b[38;5;28mstr\u001b[39m, Tool] \u001b[38;5;241m=\u001b[39m {}\n",
      "File \u001b[0;32m~/Desktop/Building-AI-Agents-from-scratch/agent/lib/python3.10/site-packages/openai/_client.py:110\u001b[0m, in \u001b[0;36mOpenAI.__init__\u001b[0;34m(self, api_key, organization, project, base_url, websocket_base_url, timeout, max_retries, default_headers, default_query, http_client, _strict_response_validation)\u001b[0m\n\u001b[1;32m    108\u001b[0m     api_key \u001b[38;5;241m=\u001b[39m os\u001b[38;5;241m.\u001b[39menviron\u001b[38;5;241m.\u001b[39mget(\u001b[38;5;124m\"\u001b[39m\u001b[38;5;124mOPENAI_API_KEY\u001b[39m\u001b[38;5;124m\"\u001b[39m)\n\u001b[1;32m    109\u001b[0m \u001b[38;5;28;01mif\u001b[39;00m api_key \u001b[38;5;129;01mis\u001b[39;00m \u001b[38;5;28;01mNone\u001b[39;00m:\n\u001b[0;32m--> 110\u001b[0m     \u001b[38;5;28;01mraise\u001b[39;00m OpenAIError(\n\u001b[1;32m    111\u001b[0m         \u001b[38;5;124m\"\u001b[39m\u001b[38;5;124mThe api_key client option must be set either by passing api_key to the client or by setting the OPENAI_API_KEY environment variable\u001b[39m\u001b[38;5;124m\"\u001b[39m\n\u001b[1;32m    112\u001b[0m     )\n\u001b[1;32m    113\u001b[0m \u001b[38;5;28mself\u001b[39m\u001b[38;5;241m.\u001b[39mapi_key \u001b[38;5;241m=\u001b[39m api_key\n\u001b[1;32m    115\u001b[0m \u001b[38;5;28;01mif\u001b[39;00m organization \u001b[38;5;129;01mis\u001b[39;00m \u001b[38;5;28;01mNone\u001b[39;00m:\n",
      "\u001b[0;31mOpenAIError\u001b[0m: The api_key client option must be set either by passing api_key to the client or by setting the OPENAI_API_KEY environment variable"
     ]
    }
   ],
   "source": [
    "agent = Agent()\n",
    "agent.add_tool(convert_currency)\n",
    "\n",
    "query_list = [\"I am traveling to Japan from Serbia, I have 1500 of local currency, how much of Japaese currency will I be able to get?\",\n",
    "                \"How are you doing?\"]\n",
    "\n",
    "for query in query_list:\n",
    "    print(f\"\\nQuery: {query}\")\n",
    "    result = agent.execute(query)\n",
    "    print(result)"
   ]
  },
  {
   "cell_type": "markdown",
   "metadata": {},
   "source": []
  },
  {
   "cell_type": "markdown",
   "metadata": {},
   "source": []
  },
  {
   "cell_type": "code",
   "execution_count": null,
   "metadata": {},
   "outputs": [],
   "source": []
  },
  {
   "cell_type": "code",
   "execution_count": null,
   "metadata": {},
   "outputs": [],
   "source": []
  }
 ],
 "metadata": {
  "kernelspec": {
   "display_name": "agent",
   "language": "python",
   "name": "python3"
  },
  "language_info": {
   "codemirror_mode": {
    "name": "ipython",
    "version": 3
   },
   "file_extension": ".py",
   "mimetype": "text/x-python",
   "name": "python",
   "nbconvert_exporter": "python",
   "pygments_lexer": "ipython3",
   "version": "3.10.9"
  }
 },
 "nbformat": 4,
 "nbformat_minor": 2
}
